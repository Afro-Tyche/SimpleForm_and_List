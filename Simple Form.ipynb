{
 "cells": [
  {
   "cell_type": "code",
   "execution_count": null,
   "id": "143200a0-b838-4efc-a97b-2660b47f8614",
   "metadata": {},
   "outputs": [],
   "source": []
  },
  {
   "cell_type": "code",
   "execution_count": 26,
   "id": "2d07073b-cc3f-434d-b47e-a01123303c70",
   "metadata": {},
   "outputs": [
    {
     "name": "stdout",
     "output_type": "stream",
     "text": [
      "What is Your Name? \n"
     ]
    },
    {
     "name": "stdin",
     "output_type": "stream",
     "text": [
      " Peace\n"
     ]
    },
    {
     "name": "stdout",
     "output_type": "stream",
     "text": [
      "How old are you?\n"
     ]
    },
    {
     "name": "stdin",
     "output_type": "stream",
     "text": [
      " 23\n"
     ]
    },
    {
     "name": "stdout",
     "output_type": "stream",
     "text": [
      "How do you shop your groceries?\n"
     ]
    },
    {
     "name": "stdin",
     "output_type": "stream",
     "text": [
      " Online\n"
     ]
    },
    {
     "name": "stdout",
     "output_type": "stream",
     "text": [
      "Tell me your location?\n"
     ]
    },
    {
     "name": "stdin",
     "output_type": "stream",
     "text": [
      " Lagos\n"
     ]
    },
    {
     "name": "stdout",
     "output_type": "stream",
     "text": [
      "Would you love to be added to our recommendation list?, \"Type Yes | No\"\n"
     ]
    },
    {
     "name": "stdin",
     "output_type": "stream",
     "text": [
      " Yes\n"
     ]
    },
    {
     "name": "stdout",
     "output_type": "stream",
     "text": [
      "Welcome to our Recommendation List Peace\n"
     ]
    },
    {
     "name": "stdin",
     "output_type": "stream",
     "text": [
      "  Pick your Groceries: Orange\n",
      "  Pick your Groceries: Mango\n"
     ]
    },
    {
     "name": "stdout",
     "output_type": "stream",
     "text": [
      "\n",
      "You have 2 items on your list\n",
      "Hey  \n",
      " Here is your List: ['Orange', 'Mango']\n"
     ]
    }
   ],
   "source": [
    "#Import modules\n",
    "\n",
    "from tkinter import *\n",
    "from tkinter import messagebox   \n",
    "    \n",
    "questions= [ \"What is Your Name? \",\"How old are you?\", \"How do you shop your groceries?\",\n",
    "            \"Tell me your location?\",'Would you love to be added to our recommendation list?, \"Type Yes | No\"']\n",
    "response = []\n",
    "\n",
    "recommendationList = []\n",
    "max_list = 4\n",
    "\n",
    "#initiate question and answer sequence\n",
    "\n",
    "def ask_question():\n",
    "    qna = []\n",
    "    \n",
    "    \n",
    "    \n",
    "    for qs in questions:\n",
    "        print(qs)                 #print question\n",
    "        inp = input()\n",
    "        qna.append(inp)\n",
    "        \n",
    "        if 'How old are you?' in qs:                       #check_error_bot\n",
    "            if inp.isnumeric() == False:\n",
    "                print(\"\\nRequired Input is Numeric\")\n",
    "                break\n",
    "                \n",
    "        \n",
    "        \n",
    "        #Recommendation initiation!!..\n",
    "        \n",
    "        if \"Yes\" in qs:\n",
    "            print(\"Welcome to our Recommendation List \"+  qna[0])\n",
    "            \n",
    "            def recommendation_init_():\n",
    "                recommend_list = []\n",
    "                mini_list = 2\n",
    "                \n",
    "                \n",
    "                while len(recommend_list) < mini_list:              #Groceries List Implementation\n",
    "                    item = input(\"  Pick your Groceries:\")\n",
    "                    recommend_list.append(item)\n",
    "                else:\n",
    "                        total_list = len(recommend_list)\n",
    "                        recommendationList.append(recommend_list)\n",
    "                        print(\"\\nYou have\", total_list, \"items on your list\")\n",
    "            \n",
    "            \n",
    "            recommendation_init_()\n",
    "                \n",
    "                    \n",
    "                \n",
    "                \n",
    "        \n",
    "        \n",
    "        \n",
    "    \n",
    "       \n",
    "    if len(qna) == len(questions):\n",
    "           response.append(qna)\n",
    "    \n",
    "    #elif len(qna) != len(questions):\n",
    "     #       print(\"All fields are required !\")\n",
    "      #      ask_question()\n",
    "    \n",
    "    \n",
    "\n",
    "ask_question()\n",
    "\n",
    "def list_present():\n",
    "    print(\"\\nHey \",\"\\n Here is your List:\", *recommendationList )\n",
    "    \n",
    "\n",
    "list_present()\n",
    "    \n",
    "        \n"
   ]
  },
  {
   "cell_type": "code",
   "execution_count": 52,
   "id": "d857939c-04a2-4e3c-ba98-368a6035118f",
   "metadata": {},
   "outputs": [
    {
     "data": {
      "text/html": [
       "<div>\n",
       "<style scoped>\n",
       "    .dataframe tbody tr th:only-of-type {\n",
       "        vertical-align: middle;\n",
       "    }\n",
       "\n",
       "    .dataframe tbody tr th {\n",
       "        vertical-align: top;\n",
       "    }\n",
       "\n",
       "    .dataframe thead th {\n",
       "        text-align: right;\n",
       "    }\n",
       "</style>\n",
       "<table border=\"1\" class=\"dataframe\">\n",
       "  <thead>\n",
       "    <tr style=\"text-align: right;\">\n",
       "      <th></th>\n",
       "      <th>What is Your Name?</th>\n",
       "      <th>How old are you?</th>\n",
       "      <th>How do you shop your groceries?</th>\n",
       "      <th>Tell me your location?</th>\n",
       "      <th>Would you love to be added to our recommendation list?, \"Type Yes | No\"</th>\n",
       "    </tr>\n",
       "  </thead>\n",
       "  <tbody>\n",
       "    <tr>\n",
       "      <th>0</th>\n",
       "      <td>Peace</td>\n",
       "      <td>23</td>\n",
       "      <td>Online</td>\n",
       "      <td>Lagos</td>\n",
       "      <td>Yes</td>\n",
       "    </tr>\n",
       "  </tbody>\n",
       "</table>\n",
       "</div>"
      ],
      "text/plain": [
       "  What is Your Name?  How old are you? How do you shop your groceries?  \\\n",
       "0               Peace               23                          Online   \n",
       "\n",
       "  Tell me your location?  \\\n",
       "0                  Lagos   \n",
       "\n",
       "  Would you love to be added to our recommendation list?, \"Type Yes | No\"  \n",
       "0                                                Yes                       "
      ]
     },
     "execution_count": 52,
     "metadata": {},
     "output_type": "execute_result"
    }
   ],
   "source": [
    "#Create Tables\n",
    "\n",
    "import pandas as pd\n",
    "\n",
    "Registration_data = pd.DataFrame(response, columns=questions)\n",
    "    \n",
    "Registration_data\n",
    "\n"
   ]
  },
  {
   "cell_type": "code",
   "execution_count": 64,
   "id": "ac97020a-1628-4fe5-a9de-36307fd47236",
   "metadata": {},
   "outputs": [
    {
     "data": {
      "text/html": [
       "<div>\n",
       "<style scoped>\n",
       "    .dataframe tbody tr th:only-of-type {\n",
       "        vertical-align: middle;\n",
       "    }\n",
       "\n",
       "    .dataframe tbody tr th {\n",
       "        vertical-align: top;\n",
       "    }\n",
       "\n",
       "    .dataframe thead th {\n",
       "        text-align: right;\n",
       "    }\n",
       "</style>\n",
       "<table border=\"1\" class=\"dataframe\">\n",
       "  <thead>\n",
       "    <tr style=\"text-align: right;\">\n",
       "      <th></th>\n",
       "      <th>0</th>\n",
       "      <th>1</th>\n",
       "    </tr>\n",
       "  </thead>\n",
       "  <tbody>\n",
       "    <tr>\n",
       "      <th>0</th>\n",
       "      <td>Orange</td>\n",
       "      <td>Mango</td>\n",
       "    </tr>\n",
       "  </tbody>\n",
       "</table>\n",
       "</div>"
      ],
      "text/plain": [
       "        0      1\n",
       "0  Orange  Mango"
      ]
     },
     "execution_count": 64,
     "metadata": {},
     "output_type": "execute_result"
    }
   ],
   "source": [
    "Recommendation_data = pd.DataFrame(recommendationList)\n",
    "\n",
    "Recommendation_data"
   ]
  },
  {
   "cell_type": "code",
   "execution_count": 63,
   "id": "db185746-7e95-4068-9fea-c2cde787fb2a",
   "metadata": {},
   "outputs": [
    {
     "data": {
      "text/plain": [
       "What is Your Name?                                                          Peace\n",
       "How old are you?                                                               23\n",
       "How do you shop your groceries?                                            Online\n",
       "Tell me your location?                                                      Lagos\n",
       "Would you love to be added to our recommendation list?, \"Type Yes | No\"       Yes\n",
       "Name: 0, dtype: object"
      ]
     },
     "execution_count": 63,
     "metadata": {},
     "output_type": "execute_result"
    }
   ],
   "source": [
    "Registration_data.iloc[0]"
   ]
  },
  {
   "cell_type": "code",
   "execution_count": null,
   "id": "bbc46d9f-1383-43a5-89d9-cbc5452de007",
   "metadata": {},
   "outputs": [],
   "source": []
  }
 ],
 "metadata": {
  "kernelspec": {
   "display_name": "Python 3 (ipykernel)",
   "language": "python",
   "name": "python3"
  },
  "language_info": {
   "codemirror_mode": {
    "name": "ipython",
    "version": 3
   },
   "file_extension": ".py",
   "mimetype": "text/x-python",
   "name": "python",
   "nbconvert_exporter": "python",
   "pygments_lexer": "ipython3",
   "version": "3.10.6"
  }
 },
 "nbformat": 4,
 "nbformat_minor": 5
}
